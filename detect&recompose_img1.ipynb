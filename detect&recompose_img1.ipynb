{
  "nbformat": 4,
  "nbformat_minor": 0,
  "metadata": {
    "colab": {
      "name": "detect&recompose_img1.ipynb",
      "provenance": [],
      "authorship_tag": "ABX9TyOoLYgsoPDdc2FNrNQzxQvM",
      "include_colab_link": true
    },
    "kernelspec": {
      "name": "python3",
      "display_name": "Python 3"
    },
    "language_info": {
      "name": "python"
    }
  },
  "cells": [
    {
      "cell_type": "markdown",
      "metadata": {
        "id": "view-in-github",
        "colab_type": "text"
      },
      "source": [
        "<a href=\"https://colab.research.google.com/github/emailic/YOLOv5-Microplasticos/blob/main/detect%26recompose_img1.ipynb\" target=\"_parent\"><img src=\"https://colab.research.google.com/assets/colab-badge.svg\" alt=\"Open In Colab\"/></a>"
      ]
    },
    {
      "cell_type": "code",
      "source": [
        "import os\n",
        "import pandas as pd\n",
        "\n",
        "from collections import namedtuple\n",
        "from PIL import Image, ImageFont, ImageDraw, ImageEnhance\n",
        "from google.colab import drive\n",
        "drive.mount('/content/drive', force_remount=True)"
      ],
      "metadata": {
        "colab": {
          "base_uri": "https://localhost:8080/"
        },
        "id": "i7zvR7Fi08o1",
        "outputId": "c3063b7b-b876-4596-881f-960513764d5f"
      },
      "execution_count": 13,
      "outputs": [
        {
          "output_type": "stream",
          "name": "stdout",
          "text": [
            "Mounted at /content/drive\n"
          ]
        }
      ]
    },
    {
      "cell_type": "code",
      "source": [
        "Rectangle = namedtuple('Rectangle', 'xmin ymin xmax ymax label conf')\n",
        "color_dict = [\"green\", \"blue\", \"red\", \"yellow\", \"orange\"]\n",
        "OUT_COLS = [\n",
        "    \"image_path\",\n",
        "    \"xmin\",\n",
        "    \"ymin\",\n",
        "    \"xmax\",\n",
        "    \"ymax\",\n",
        "    \"label\",\n",
        "    \"confidence\",\n",
        "    \"x_size\",\n",
        "    \"y_size\",\n",
        "]"
      ],
      "metadata": {
        "id": "a1ACakia2j-1"
      },
      "execution_count": 21,
      "outputs": []
    },
    {
      "cell_type": "code",
      "source": [
        "def paint_rectangles(rectangles, grid_image, out_img, classes):\n",
        "    draw = ImageDraw.Draw(grid_image)\n",
        "\n",
        "    for rect in rectangles:\n",
        "        draw.rectangle([(rect.xmin, rect.ymin), (rect.xmax, rect.ymax)], outline=color_dict[rect.label])\n",
        "        draw.text((rect.xmin, rect.ymin - 10), \"\" + str(classes[rect.label]) + \": \" + str(rect.conf), fill=color_dict[rect.label])\n",
        "\n",
        "    grid_image.save(out_img)"
      ],
      "metadata": {
        "id": "GiyJ8S4s9Xzi"
      },
      "execution_count": 36,
      "outputs": []
    },
    {
      "cell_type": "code",
      "source": [
        "def intersection_percentage(rect1, rect2):\n",
        "    ia = intersection_area(rect1, rect2)\n",
        "    if (ia != None and ia > 0.0):\n",
        "        rect1_area = (rect1.xmax - rect1.xmin) * (rect1.ymax - rect1.ymin)\n",
        "        rect2_area = (rect2.xmax - rect2.xmin) * (rect2.ymax - rect2.ymin)\n",
        "        percentage = ia / (rect1_area + rect2_area - ia)\n",
        "        \n",
        "        return percentage if percentage != None else 0\n",
        "    else:\n",
        "        return 0\n",
        "\n",
        "# returns None if rectangles don't intersect\n",
        "def intersection_area(rect1, rect2):  \n",
        "    dx = min(rect1.xmax, rect2.xmax) - max(rect1.xmin, rect2.xmin)\n",
        "    dy = min(rect1.ymax, rect2.ymax) - max(rect1.ymin, rect2.ymin)\n",
        "    if (dx>=0) and (dy>=0):\n",
        "        return dx*dy\n",
        "    else:\n",
        "        return 0 "
      ],
      "metadata": {
        "id": "WyFvzHId4mZG"
      },
      "execution_count": 23,
      "outputs": []
    },
    {
      "cell_type": "code",
      "source": [
        "def generate_rectangles(csv_row): #positions rectangles on a full sized image\n",
        "    [h_offset, w_offset]= csv_row[\"grid_coords\"].split(\", \")\n",
        "    xmin = int(w_offset) + int(csv_row[\"xmin\"])\n",
        "    xmax = int(w_offset) + int(csv_row[\"xmax\"])\n",
        "\n",
        "    ymin = int(h_offset) + int(csv_row[\"ymin\"])\n",
        "    ymax = int(h_offset) + int(csv_row[\"ymax\"])\n",
        "\n",
        "    return Rectangle(xmin, ymin, xmax, ymax, int(csv_row[\"class\"]), float(csv_row[\"confidence\"]))"
      ],
      "metadata": {
        "id": "yCoKdANs1S3p"
      },
      "execution_count": 24,
      "outputs": []
    },
    {
      "cell_type": "code",
      "source": [
        "def rebuild_image(csv_path, out_csv_path, out_img, full_img_path, classes, treshold=0.5): #creates an output detection .csv file and prints the image with label boxes\n",
        "    detect_csv = pd.read_csv(csv_path)\n",
        "    out_df = pd.DataFrame(\n",
        "        columns=OUT_COLS\n",
        "    )\n",
        "    total_rectangles = [generate_rectangles(row) for _, row in detect_csv.iterrows()]\n",
        "    grid_image = Image.open(full_img_path, 'r')\n",
        "    \n",
        "    rectangles = []\n",
        "    for i, rect1 in enumerate(total_rectangles):\n",
        "        j = 0\n",
        "        if rect1.conf < treshold: \n",
        "            continue\n",
        "        while j < len(total_rectangles):\n",
        "            if j == i: \n",
        "                j += 1\n",
        "                continue\n",
        "            rect2 = total_rectangles[j]\n",
        "            intersection = intersection_percentage(rect1, rect2)\n",
        "            if intersection > 0.25 and rect1.conf <= rect2.conf:\n",
        "                break\n",
        "            j += 1\n",
        "\n",
        "        if j == len(total_rectangles):\n",
        "            rectangles.append(rect1)\n",
        "            out_df = out_df.append(\n",
        "                pd.DataFrame(\n",
        "                    [\n",
        "                        [\n",
        "                            out_img,\n",
        "                            rect1.xmin,\n",
        "                            rect1.ymin,\n",
        "                            rect1.xmax,\n",
        "                            rect1.ymax,\n",
        "                            rect1.label,\n",
        "                            rect1.conf,\n",
        "                            rect1.xmax - rect1.xmin, \n",
        "                            rect1.ymax - rect1.ymin\n",
        "                        ]\n",
        "                    ],\n",
        "                    columns=OUT_COLS\n",
        "                )\n",
        "            )\n",
        "\n",
        "    out_df.to_csv(out_csv_path, index=False)\n",
        "    print(\"Rectangles: \", str(len(rectangles))) #number of counted items on the image\n",
        "    print(\"Total Rectangles: \", str(len(total_rectangles)))\n",
        "    paint_rectangles(rectangles, grid_image, out_img, classes)"
      ],
      "metadata": {
        "id": "86V-B46G3aT7"
      },
      "execution_count": 41,
      "outputs": []
    },
    {
      "cell_type": "code",
      "source": [
        "\n",
        "csv_path='/content/drive/My Drive/microplasticos/microplasticos_1152/csvs/20220516_113718.jpg.csv'\n",
        "out_img= '/content/drive/My Drive/microplasticos/microplasticos_1152/results/detection1/20220516_113718.jpg'\n",
        "out_csv_path= out_img+'_OUT.csv'\n",
        "img_path='/content/drive/My Drive/microplasticos/full_imgs_jsons'\n",
        "img_name='20220516_113718.jpg'\n",
        "img_file = os.path.join(img_path, img_name)\n",
        "classes=['fragment', 'line', 'organic', 'pellet', 'tar']\n",
        "\n",
        "rebuild_image(csv_path, out_csv_path, out_img, img_file, classes) #(csv_path, out_csv_path, out_img, classes, full_img_path, treshold=0.5)"
      ],
      "metadata": {
        "colab": {
          "base_uri": "https://localhost:8080/"
        },
        "id": "jRlVK_7Y9ikC",
        "outputId": "8a7df95f-498d-4ee0-d64a-c464ac461f93"
      },
      "execution_count": 42,
      "outputs": [
        {
          "output_type": "stream",
          "name": "stdout",
          "text": [
            "Rectangles:  67\n",
            "Total Rectangles:  555\n"
          ]
        }
      ]
    }
  ]
}