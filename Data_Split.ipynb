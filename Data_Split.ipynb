{
  "nbformat": 4,
  "nbformat_minor": 0,
  "metadata": {
    "colab": {
      "name": "Data_Split.ipynb",
      "provenance": [],
      "authorship_tag": "ABX9TyOiE6qVqNTmzjlm6hQV+osX",
      "include_colab_link": true
    },
    "kernelspec": {
      "name": "python3",
      "display_name": "Python 3"
    },
    "language_info": {
      "name": "python"
    }
  },
  "cells": [
    {
      "cell_type": "markdown",
      "metadata": {
        "id": "view-in-github",
        "colab_type": "text"
      },
      "source": [
        "<a href=\"https://colab.research.google.com/github/emailic/YOLOv5-Microplasticos/blob/main/Data_Split.ipynb\" target=\"_parent\"><img src=\"https://colab.research.google.com/assets/colab-badge.svg\" alt=\"Open In Colab\"/></a>"
      ]
    },
    {
      "cell_type": "markdown",
      "source": [
        "This notebook is created in order to separate image and label data into Training, Validation and Test set. We are going to make sure that the test data are all data belonging to two original large images, and validation data is the data belonging to 3 original large images, in order to avoid any bias that would be created by including pieces of images that were previously seen in training. Thus, training will be comprised of cropped images and label files belonging to 14 remaining images.\n",
        "Img_sz implies the size of the cropped image using the mosaic/overlap technique. The experiments were done on two different image sizes, 1152 and 576. "
      ],
      "metadata": {
        "id": "4bTSwHhyFG1H"
      }
    },
    {
      "cell_type": "code",
      "source": [
        "from google.colab import drive\n",
        "drive.mount('/content/drive', force_remount=True)\n",
        "\n",
        "import os\n",
        "\n",
        "img_sz='1152'\n",
        "\n",
        "oi='/content/drive/My Drive/microplasticos/images/train_'+img_sz #original image path containing all the images\n",
        "ol='/content/drive/My Drive/microplasticos/labels/train_'+img_sz #original label path containing all the labels\n",
        "vali='/content/drive/My Drive/microplasticos/images/val_'+img_sz\n",
        "vall='/content/drive/My Drive/microplasticos/labels/val_'+img_sz\n",
        "testi='/content/drive/My Drive/microplasticos/images/test_'+img_sz\n",
        "testl='/content/drive/My Drive/microplasticos/labels/test_'+img_sz"
      ],
      "metadata": {
        "colab": {
          "base_uri": "https://localhost:8080/"
        },
        "id": "EefNk8HBGNGU",
        "outputId": "f191c748-1654-41e9-f521-fd0c77c4ea95"
      },
      "execution_count": null,
      "outputs": [
        {
          "output_type": "stream",
          "name": "stdout",
          "text": [
            "Mounted at /content/drive\n"
          ]
        }
      ]
    },
    {
      "cell_type": "code",
      "source": [
        "li=[f[:-4] for f in os.listdir(testi)]\n",
        "ll=[f[:-4] for f in os.listdir(testl)]\n",
        "\n",
        "for x in li:\n",
        "  if x not in ll:\n",
        "    print('image', x, 'doesnt have a corresponding label.')\n",
        "for x in ll:\n",
        "  if x not in li:\n",
        "    print('label', x ,'doesnt have a corresponding image.')"
      ],
      "metadata": {
        "id": "HA01W4PbI1io"
      },
      "execution_count": null,
      "outputs": []
    },
    {
      "cell_type": "code",
      "source": [
        "print(len(os.listdir(oi)),len(os.listdir(ol)))"
      ],
      "metadata": {
        "colab": {
          "base_uri": "https://localhost:8080/"
        },
        "id": "FEDxSGRILj5g",
        "outputId": "d1522250-36a8-4e39-bf35-2f6006040b99"
      },
      "execution_count": null,
      "outputs": [
        {
          "output_type": "stream",
          "name": "stdout",
          "text": [
            "1330 1330\n"
          ]
        }
      ]
    },
    {
      "cell_type": "code",
      "source": [
        "print"
      ],
      "metadata": {
        "id": "qtTX3R37L7sZ"
      },
      "execution_count": null,
      "outputs": []
    },
    {
      "cell_type": "code",
      "source": [
        "print(len(os.listdir(oi)),len(os.listdir(ol)))\n",
        "\n",
        "l=[f[:-4] for f in os.listdir(oi)]\n",
        "\n",
        "for x in l:\n",
        "  #put all the data and cropped images belonging to these two original images into test folder\n",
        "  if '20220516_113208' in x or '20220516_113718' in x:\n",
        "      os.rename(oi+'/'+x+'.jpg', testi+'/'+x+'.jpg')\n",
        "      os.rename(ol+'/'+x+'.txt', testl+'/'+x+'.txt')\n",
        "   \n",
        "    #do the same for the validation folder, this time with 3 images\n",
        "  if '20220516_114747' in x or 'DSC00010'in x or 'line-04-olympus-10-01-2020' in x:\n",
        "      os.rename(oi+'/'+x+'.jpg', vali+'/'+x+'.jpg')\n",
        "      os.rename(ol+'/'+x+'.txt', vall+'/'+x+'.txt')\n"
      ],
      "metadata": {
        "id": "gLCkvy4wtOu3",
        "colab": {
          "base_uri": "https://localhost:8080/"
        },
        "outputId": "1164e4e7-e0ec-4cd2-b306-128db6237b39"
      },
      "execution_count": null,
      "outputs": [
        {
          "output_type": "stream",
          "name": "stdout",
          "text": [
            "1259 1260\n"
          ]
        }
      ]
    },
    {
      "cell_type": "code",
      "source": [
        "print(len(os.listdir(oi)),len(os.listdir(ol)))\n",
        "print(len(os.listdir(vali)),len(os.listdir(vall)))\n",
        "print(len(os.listdir(testi)),len(os.listdir(testl)))"
      ],
      "metadata": {
        "id": "WVHKqD68taHB",
        "colab": {
          "base_uri": "https://localhost:8080/"
        },
        "outputId": "974253ae-4f94-415a-b2b8-d6cf6ad011af"
      },
      "execution_count": null,
      "outputs": [
        {
          "output_type": "stream",
          "name": "stdout",
          "text": [
            "980 980\n",
            "210 210\n",
            "140 140\n"
          ]
        }
      ]
    }
  ]
}