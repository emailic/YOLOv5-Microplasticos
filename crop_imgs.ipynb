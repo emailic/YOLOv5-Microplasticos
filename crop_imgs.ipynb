{
  "nbformat": 4,
  "nbformat_minor": 0,
  "metadata": {
    "colab": {
      "name": "crop_imgs.ipynb",
      "provenance": [],
      "authorship_tag": "ABX9TyOHsJx4GauTlRhw7eHtnIPe",
      "include_colab_link": true
    },
    "kernelspec": {
      "name": "python3",
      "display_name": "Python 3"
    },
    "language_info": {
      "name": "python"
    }
  },
  "cells": [
    {
      "cell_type": "markdown",
      "metadata": {
        "id": "view-in-github",
        "colab_type": "text"
      },
      "source": [
        "<a href=\"https://colab.research.google.com/github/emailic/YOLOv5-Microplasticos/blob/main/crop_imgs.ipynb\" target=\"_parent\"><img src=\"https://colab.research.google.com/assets/colab-badge.svg\" alt=\"Open In Colab\"/></a>"
      ]
    },
    {
      "cell_type": "markdown",
      "source": [
        "This notebook serves to crop the images using the mosaic/overlap technique, which is a type of data augmentation. The original images are large, 3456x4608, and in this notebook we are cropping them to be the size 1152, or 576. Make sure to adjust the original image path and the output image path."
      ],
      "metadata": {
        "id": "BPSJueT7MKSQ"
      }
    },
    {
      "cell_type": "code",
      "source": [
        "from google.colab import drive\n",
        "drive.mount('/content/drive', force_remount=True)"
      ],
      "metadata": {
        "id": "EraIVtkdJrxt",
        "colab": {
          "base_uri": "https://localhost:8080/"
        },
        "outputId": "c844e13e-27f9-4dee-cdd7-2dbe6e7e5763"
      },
      "execution_count": null,
      "outputs": [
        {
          "output_type": "stream",
          "name": "stdout",
          "text": [
            "Mounted at /content/drive\n"
          ]
        }
      ]
    },
    {
      "cell_type": "code",
      "source": [
        "import os\n",
        "from os import walk, getcwd\n",
        "import pandas as pd\n",
        "\n",
        "from collections import namedtuple\n",
        "from PIL import Image, ImageFont, ImageDraw, ImageEnhance"
      ],
      "metadata": {
        "id": "Dv6pyDCwJbwk"
      },
      "execution_count": null,
      "outputs": []
    },
    {
      "cell_type": "code",
      "execution_count": null,
      "metadata": {
        "id": "nwW74Ais1g7C"
      },
      "outputs": [],
      "source": [
        "\n",
        "\n",
        "def split_image(src_dir, filename, out_dir):\n",
        "  grid_image = open_image(os.path.join(src_dir, filename))\n",
        "  grid_width, grid_height = grid_image.size\n",
        "  \n",
        "  img_sz=576 #desired image size\n",
        "  overlap = img_sz/3 #192 for 576 size images, previously 384 for 1152 size of images\n",
        "  \n",
        "  for h in range(1, int(grid_height/overlap) - 1): #(1, 8) for 1152\n",
        "      for w in range(1, int(grid_width/overlap) - 1): #(1, 11) for 1152\n",
        "          left = overlap * (w - 1) \n",
        "          right = left + (overlap * 3)\n",
        "          top = overlap * (h - 1) \n",
        "          bot = top + (overlap * 3)\n",
        "          #print(left, top, right, bot)\n",
        "          \n",
        "          crop_img = grid_image.crop((left, top, right, bot))\n",
        "          \n",
        "          crop_img.save(os.path.join(out_dir, filename + \"_grid_\" + str(top) + \"_\" + str(left) + \".jpg\"))\n",
        "\n"
      ]
    },
    {
      "cell_type": "code",
      "source": [
        "\"\"\" Configure Paths\"\"\"   \n",
        "imPath = '/content/drive/My Drive/microplasticos/images/train' #image path\n",
        "outImgPath=\"/content/drive/My Drive/microplasticos/images/train_576\" #output path for images\n",
        "\n",
        "\n",
        "wd = getcwd()\n",
        "#list_file = open('%s_list.txt'%(wd), 'w')\n",
        "\n",
        "\n",
        "\"\"\" Get input json file list \"\"\"\n",
        "image_name_list = []\n",
        "for file in os.listdir(imPath):\n",
        "    if file.endswith(\".jpg\"):\n",
        "        image_name_list.append(file)\n",
        "\n"
      ],
      "metadata": {
        "id": "D7lENjz0J2ZZ"
      },
      "execution_count": null,
      "outputs": []
    },
    {
      "cell_type": "code",
      "source": [
        "   \n",
        "\n",
        "\"\"\" Process \"\"\"\n",
        "for image in image_name_list:\n",
        "    split_image(imPath,image,outImgPath)"
      ],
      "metadata": {
        "id": "lvDP1F4barZ9"
      },
      "execution_count": null,
      "outputs": []
    }
  ]
}